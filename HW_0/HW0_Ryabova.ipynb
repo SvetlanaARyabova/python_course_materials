{
 "cells": [
  {
   "cell_type": "markdown",
   "id": "4aae3dfe",
   "metadata": {},
   "source": [
    "## Вывод (std out)"
   ]
  },
  {
   "cell_type": "code",
   "execution_count": 3,
   "id": "19d51336",
   "metadata": {},
   "outputs": [
    {
     "name": "stdout",
     "output_type": "stream",
     "text": [
      "1\n",
      "new\n",
      "8\n",
      "old\n",
      "1new8old\n"
     ]
    }
   ],
   "source": [
    "a=input()\n",
    "b=input()\n",
    "c=input()\n",
    "d=input()\n",
    "print(a+b+c+d)\n",
    "## Напишите программу, которая вводит строки без newline или space (не забудьте что print принимает сколько угодно аргументов)\n",
    "\n",
    "# Тестовые данные\n",
    "\n",
    "# 1, 5, 8, 3 -> 1583\n",
    "# 1, \"new\", 8, \"old\" -> 1new8old"
   ]
  },
  {
   "cell_type": "markdown",
   "id": "c6a2735e",
   "metadata": {},
   "source": [
    "## Арифметика "
   ]
  },
  {
   "cell_type": "code",
   "execution_count": 10,
   "id": "bc23a479",
   "metadata": {},
   "outputs": [
    {
     "name": "stdout",
     "output_type": "stream",
     "text": [
      "0\n",
      "0\n",
      "1\n",
      "1\n",
      "1.4142135623730951\n"
     ]
    }
   ],
   "source": [
    "import math\n",
    "\n",
    "x1=float(input())\n",
    "x2=float(input())\n",
    "y1=float(input())\n",
    "y2=float(input())\n",
    "\n",
    "print(math.sqrt(((y1-x1)**2) + (y2-x2)**2))   \n",
    "\n",
    "## Расчитайте расстояние между двумя заданными точками (math.sqrt) заданными в двумерном пространстве\n",
    "\n",
    "# Тестовые данные\n",
    "\n",
    "# [0, 0], [1, 1] -> 1.4142135623730951\n",
    "# [0, 1], [1, 5] -> 4.123105625617661\n",
    "# [4, 1], [12, 5] -> 8.94427190999916\n"
   ]
  },
  {
   "cell_type": "markdown",
   "id": "6c5d4192",
   "metadata": {},
   "source": [
    "## Списки"
   ]
  },
  {
   "cell_type": "code",
   "execution_count": 14,
   "id": "ace65e2e",
   "metadata": {},
   "outputs": [
    {
     "name": "stdout",
     "output_type": "stream",
     "text": [
      "0.1\n",
      "1.6\n",
      "0.3\n",
      "\n",
      "2.0\n"
     ]
    }
   ],
   "source": [
    "## Посчитайте сумму элементов в списке (только тех, что чей тип float)\n",
    "\n",
    "# Тестовые данные\n",
    "\n",
    "color_list = [0.1,\"зеленый\", 1.6, \"белый\", 0.3, \"черный\", 7, \"2.0\"]\n",
    "\n",
    "i = 0\n",
    "\n",
    "floatssum = 0\n",
    "\n",
    "len_list = 8\n",
    "\n",
    "while i < len_list:\n",
    "    \n",
    "    element_list = color_list[i]\n",
    "    \n",
    "    if type(element_list) == float:\n",
    "        print(element_list)\n",
    "        floatssum = floatssum + element_list\n",
    "    \n",
    "    i = i+1\n",
    "\n",
    "print()\n",
    "print(floatssum)\n",
    "    \n",
    "# ответ: 2"
   ]
  },
  {
   "cell_type": "code",
   "execution_count": 2,
   "id": "f5efd6f8",
   "metadata": {},
   "outputs": [
    {
     "name": "stdout",
     "output_type": "stream",
     "text": [
      "красный\n",
      "черный\n"
     ]
    }
   ],
   "source": [
    "## Отобразите с помощью print только первый и последний элемент списка (цикл while)\n",
    "\n",
    "# Тестовые данные\n",
    "\n",
    "color_list = [\"красный\",\"зеленый\",\"белый\" ,\"черный\"]\n",
    "i=0\n",
    "while i < len(color_list):\n",
    "    print(color_list[0])\n",
    "    print(color_list[-1])\n",
    "    break\n"
   ]
  },
  {
   "cell_type": "code",
   "execution_count": 3,
   "id": "0120e466",
   "metadata": {},
   "outputs": [
    {
     "name": "stdout",
     "output_type": "stream",
     "text": [
      "3\n",
      "Element  3  was found\n"
     ]
    }
   ],
   "source": [
    "## Проверьте есть ли в данный элемент в списке, если есть выведите с помощью print \"Element такой то was found\", если элемента не нашлось выведите \"Clear\" (цикл while) \n",
    "\n",
    "# Тестовые данные\n",
    "\n",
    "lst = [1, 5, 8, 3]\n",
    "a=input()\n",
    "i=0\n",
    "while i<len(lst):\n",
    "    if lst[i]==a or int(a):\n",
    "        print(\"Element \",a,\" was found\")\n",
    "        break\n",
    "    i+=1\n",
    "\n",
    "else:\n",
    "    print(\"Clear\")\n",
    "\n",
    "\n",
    "\n",
    "        \n",
    "\n",
    "# 3 -> [1, 5, 8, 3] -> \"Element 3 was found\"\n",
    "# -1 -> [1, 5, 8, 3] -> \"Clear\"\n",
    "# \"color\" -> [1, \"color\", 1.3, 3] ->  \"Element color was found\"\n"
   ]
  },
  {
   "cell_type": "code",
   "execution_count": 4,
   "id": "824424aa",
   "metadata": {},
   "outputs": [
    {
     "name": "stdout",
     "output_type": "stream",
     "text": [
      "9 caMii  /\\y4LLIii proger v 2022 roDy\n"
     ]
    }
   ],
   "source": [
    "## Пройдите по списку и объедините все элементы из списка в одну строку через пробел (цикл while)\n",
    "lst = [\"9\", \"caMii\", \" /\\y4LLIii\", \"proger\", \"v\", \"2022\", \"roDy\"]\n",
    "stroka = ' '.join([str(i) for i in lst])\n",
    "i=0\n",
    "while i < len(lst):\n",
    "    print(stroka)\n",
    "    break\n",
    "\n",
    "# Тестовые данные\n",
    "\n",
    "# [\"9\", \"caMii\", \" /\\y4LLIii\", \"proger\", \"v\", \"2022\", \"roDy\"] -> 9 caMii  /\\y4LLIii proger v 2022 roDy"
   ]
  },
  {
   "cell_type": "code",
   "execution_count": 5,
   "id": "1c52c4b8",
   "metadata": {},
   "outputs": [
    {
     "name": "stdout",
     "output_type": "stream",
     "text": [
      "White Red\n",
      "Black Green\n",
      "Red White\n"
     ]
    }
   ],
   "source": [
    "## Пройдите по двум списка сразу и выведите сразу по два элемента - один из одного списка, другой из другого \n",
    "## (подсказка - обращайтесь по индексу к элементам обоих списков)\n",
    "\n",
    "# Тестовые данные\n",
    "\n",
    "color_list_1 = [\"White\", \"Black\", \"Red\"]\n",
    "color_list_2 = [\"Red\", \"Green\", \"White\"]\n",
    "print(color_list_1[0], color_list_2[0])\n",
    "print(color_list_1[1], color_list_2[1])\n",
    "print(color_list_1[2], color_list_2[2])\n",
    "\n",
    "# White Red\n",
    "# Black Green\n",
    "# Red White"
   ]
  },
  {
   "cell_type": "code",
   "execution_count": 9,
   "id": "9d59ec07",
   "metadata": {},
   "outputs": [
    {
     "name": "stdout",
     "output_type": "stream",
     "text": [
      "aaa\n",
      "bbbbbb\n",
      "ccccccccc\n",
      "dddddddddddd\n"
     ]
    }
   ],
   "source": [
    "## Пройдите по списку и выводите каждый следующий элемент столько раз какой у него ((индекс + 1) * 3) в списке (цикл while) \n",
    "\n",
    "# Тестовые данные\n",
    "\n",
    "lst = [\"a\", \"b\", \"c\", \"d\"] \n",
    "i=0\n",
    "while i < len(lst):\n",
    "    element=lst[i]\n",
    "    x=lst.index(element)\n",
    "    i+=1\n",
    "    print(str(element*(x+1)*3))\n",
    "\n",
    "    \n",
    "\n",
    "# ответ -> \"aaabbbbbbcccccccccdddddddddddd\""
   ]
  },
  {
   "cell_type": "code",
   "execution_count": 44,
   "id": "bfd569fd",
   "metadata": {},
   "outputs": [
    {
     "name": "stdout",
     "output_type": "stream",
     "text": [
      "['a']\n",
      "['a', 't']\n",
      "[1000.0]\n"
     ]
    }
   ],
   "source": [
    "## Зайдите в каждый масив внутри (если это список) и рассортируйте мне элементы по соответствующим спискам (не забудьте про append)\n",
    "\n",
    "sample = [[\"a\", \"b\", 1, 2.4], \"string\", [\"new\", 11111, 1000.0, \"old\"]]\n",
    "\n",
    "integers = []\n",
    "floats = []\n",
    "strings = []\n",
    "\n",
    "i = 0\n",
    "\n",
    "while i < len(sample):\n",
    "    \n",
    "    element = sample[i][i]\n",
    "    \n",
    "    if type(element) == int:\n",
    "        integers.append(element)\n",
    "        print(integers)\n",
    "    if type(element) == float:\n",
    "        floats.append(element)\n",
    "        print(floats)\n",
    "    if type(element) == str:\n",
    "        strings.append(element)\n",
    "        print(strings)\n",
    "    i+=1\n",
    "\n",
    "# ответ\n",
    "# integers -> [1, 11111]\n",
    "# floats -> [2.4, 1000.0]\n",
    "# strings -> [\"a\", \"b\", \"string\", \"new\", \"old\"]"
   ]
  },
  {
   "cell_type": "markdown",
   "id": "4d785ec2",
   "metadata": {},
   "source": [
    "## Библиотеки "
   ]
  },
  {
   "cell_type": "code",
   "execution_count": 3,
   "id": "0937e5e0",
   "metadata": {},
   "outputs": [
    {
     "name": "stdout",
     "output_type": "stream",
     "text": [
      "Sun Oct 16 10:32:15 2022\n"
     ]
    }
   ],
   "source": [
    "## Напишите программу, которая выводит настоящее время ( то есть в ремя в которую программа запущена, используйте либу - time) \n",
    "import time\n",
    "print(time.ctime())\n",
    "# Тестовые данные (например)\n",
    "\n",
    "# 'Sat Oct  1 00:34:36 2022'"
   ]
  }
 ],
 "metadata": {
  "kernelspec": {
   "display_name": "Python 3 (ipykernel)",
   "language": "python",
   "name": "python3"
  },
  "language_info": {
   "codemirror_mode": {
    "name": "ipython",
    "version": 3
   },
   "file_extension": ".py",
   "mimetype": "text/x-python",
   "name": "python",
   "nbconvert_exporter": "python",
   "pygments_lexer": "ipython3",
   "version": "3.9.12"
  }
 },
 "nbformat": 4,
 "nbformat_minor": 5
}
